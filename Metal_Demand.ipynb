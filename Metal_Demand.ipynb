{
 "cells": [
  {
   "cell_type": "code",
   "execution_count": 1,
   "metadata": {},
   "outputs": [],
   "source": [
    "#Import Libraries\n",
    "import pandas as pd\n",
    "import numpy as np\n",
    "import matplotlib.pyplot as plt\n",
    "import matplotlib.cm as cm\n",
    "import ipywidgets as widgets\n",
    "from IPython.display import display"
   ]
  },
  {
   "cell_type": "code",
   "execution_count": 98,
   "metadata": {},
   "outputs": [],
   "source": [
    "#Conversions\n",
    "conversions = {\n",
    "    \"kWh_MWh\": 1/10**3,\n",
    "    \"kWh_GWh\": 1/10**6,\n",
    "    \"kWh_TWh\": 1/10**9,\n",
    "    \"Mwh_TWh\": 1/10**6,\n",
    "    \"g_kt\": 1/10**9,\n",
    "    \"kg_t\": 1/10**3,\n",
    "    \"t_kt\": 1/10**3,\n",
    "    \"t_Mt\": 1/10**6,\n",
    "    \"Mt_kt\": 10**3,\n",
    "    \"km_Tkm\": 1/10**12,\n",
    "    \"Mv_v\": 10**6\n",
    "}"
   ]
  },
  {
   "cell_type": "code",
   "execution_count": 129,
   "metadata": {},
   "outputs": [],
   "source": [
    "#Total Metals\n",
    "df_Metals = pd.read_excel('Metals.xlsx',sheet_name='Metals')\n",
    "df_Power_Plants = pd.read_excel('Metals.xlsx',sheet_name='Power Systems')\n",
    "df_Vehicles = pd.read_excel('Metals.xlsx',sheet_name='Vehicles')"
   ]
  },
  {
   "cell_type": "code",
   "execution_count": 139,
   "metadata": {},
   "outputs": [],
   "source": [
    "#Current World Inputs\n",
    "'''\n",
    "These are inputs that I have found but will be subject to change over time\n",
    "'''\n",
    "# Create GHG DataFrame\n",
    "# The sectors and their respective GHG contributions are defined here.\n",
    "GHG_data = {\n",
    "    'Sector': ['Oil','Gas','Coal','Biomass','Industry','Waste','Agriculture, Forestry and Land Use', 'Other'],\n",
    "    'Percentage': [23.2, 16.3, 33.1, 0.6, 5.2, 3.2, 18.4, 100 - 23.2 - 16.3 - 33.1 - 0.6 - 5.2 - 3.2 - 18.4]\n",
    "}\n",
    "GHG_df = pd.DataFrame(GHG_data)\n",
    "\n",
    "# Create Power DataFrame\n",
    "# The power sources and their respective contributions are defined here.\n",
    "Power_data = {\n",
    "    'Source': ['Oil','Gas','Coal','Nuclear','Hydro','Renewables','Other'],\n",
    "    'Percentage': [2.5, 22.9, 36.0, 9.8, 15.0, 12.8, 100 - 2.5 - 22.9 - 36.0 - 9.8 - 15.0 - 12.8]\n",
    "}\n",
    "Power_df = pd.DataFrame(Power_data)\n",
    "\n",
    "# World values for GHG Emissions and Power Generation\n",
    "World_GHG_Emissions = 49758 #Mt/y CO2eq - as of 2020\n",
    "World_Power_Generation = 28466 #TWh - total power produced per year in TWh\n",
    "\n",
    "# Compute the absolute emissions and power based on the world values\n",
    "GHG_df['Absolute'] = GHG_df['Percentage']/100 * World_GHG_Emissions\n",
    "Power_df['Absolute'] = Power_df['Percentage']/100 * World_Power_Generation\n",
    "\n",
    "# Compute the sum of power (in TWh) from Oil, Gas, and Coal\n",
    "GHG_Power_TWh = Power_df['Absolute'].loc[Power_df['Source'].isin(['Oil','Gas','Coal'])].sum()\n",
    "\n",
    "# Create a DataFrame to store this information\n",
    "power_requirements = pd.DataFrame(\n",
    "    {'Non-Renewable Power': [GHG_Power_TWh]},\n",
    "    index=['GHG Power'])\n",
    "#Other Power Based Inputs\n",
    "# Constants that will be used in the model\n",
    "Power_to_Remove_GHG = 0.51 #TWh/Mt CO2eq\n",
    "Current_Year = 2023\n",
    "Years_To_Develop = 10 #Time in years to develop a mining project\n",
    "Year_To_Net_Zero = 2050 #Time when we want to achieve net zero\n",
    "Years_To_Mine = Year_To_Net_Zero-Current_Year-Years_To_Develop\n",
    "\n",
    "#Add in energy costs for industry and waste\n",
    "#Add in energy costs for industry and waste\n",
    "Industry_Power = GHG_df.loc[GHG_df['Sector'] == 'Industry', 'Absolute'].values[0]*Power_to_Remove_GHG\n",
    "Waste_Power = GHG_df.loc[GHG_df['Sector'] == 'Waste', 'Absolute'].values[0]*Power_to_Remove_GHG\n",
    "power_requirements['Industry'] = Industry_Power\n",
    "power_requirements['Waste'] = Waste_Power"
   ]
  },
  {
   "cell_type": "code",
   "execution_count": 140,
   "metadata": {},
   "outputs": [],
   "source": [
    "#Convert Percentiles into values\n",
    "def Convert_pct_to_Value(pct_array,value):\n",
    "    #Input an array with pct values with numbers between 0-100 and the value it's going to scale to\n",
    "    val_array = pct_array/100 * value\n",
    "    return val_array\n",
    "\n",
    "def plot_pie(values, labels, title):\n",
    "    plt.figure(figsize=(10,8))\n",
    "    plt.pie(values, labels=labels, autopct='%1.1f%%')\n",
    "    plt.title(title)\n",
    "    plt.show()"
   ]
  },
  {
   "cell_type": "code",
   "execution_count": 132,
   "metadata": {},
   "outputs": [],
   "source": [
    "#Direct Carbon Capture\n",
    "CC_Size = 1.0 #Mt - CO2/y removed\n",
    "CC_Power = 366 #kWh/t CO2 to compress and store underground\n",
    "CC_CO2_Removed = World_GHG_Emissions #Total CO2 Emissions Removed per year in Mt\n",
    "CC_Additional_Power = CC_Power*conversions['kWh_TWh']/conversions['t_Mt']*CC_CO2_Removed #TWh - Will Be Added to Overall Power Chart At End\n",
    "CC_Stations = CC_CO2_Removed/CC_Size # Number of Stations - Will just be presented\n",
    "\n",
    "power_requirements['Direct Carbon Capture'] = CC_Additional_Power"
   ]
  },
  {
   "cell_type": "code",
   "execution_count": 141,
   "metadata": {},
   "outputs": [],
   "source": [
    "#Constants for Vehicle Power Estimates\n",
    "H2_Drive_Power = 15 #kWh/kg H2\n",
    "People_per_car = 1.5 # Each car transports on average 1.5 people\n",
    "People_per_bus = 50 # 1 bus can transport 50 people\n",
    "E_Bike_to_EV = 1/100 #E-bikes require 100x less material for one unit compared to an EV\n",
    "EV_Battery_Size = 0.230 #kWh/kg\n",
    "H2_EV_Power_Conversion = 0.41 #EV vehicles demand ~40% of H2 due to inefficiency in producing H2 (this includes all EV ineffiencies so it's a straight conversion) and is reversible\n",
    "H2_TWh = 0.017 # Mt H2 / TWh consumed\n",
    "\n",
    "def Total_Power_Required(df_Vehicles):\n",
    "    '''\n",
    "    This calculation is a bit challenging to visualize because there are many different units and efficiency factors if you pick H2 or EV. The values here are designed to align\n",
    "    with Simon Michaux's work.\n",
    "    '''\n",
    "    # Check if all necessary columns are in the DataFrame\n",
    "    necessary_columns = ['Trillion Km Travelled / y', 'kWh/km Travelled', 'EV Efficiency Overall %', \n",
    "                         'Million Vehicles Or Billion (tonne-kilometers) / y', 'TWh Consumed/Million Vehicles/y OR TWh/ Billion tonne - km',\n",
    "                         'Million Vehicles', 'kWh Batteries / Vehicle']\n",
    "    for column in necessary_columns:\n",
    "        if column not in df_Vehicles.columns:\n",
    "            raise ValueError(f\"Column '{column}' not found in the input DataFrame.\")\n",
    "\n",
    "    # Copy the input DataFrame to avoid in-place modifications\n",
    "    df = df_Vehicles.copy()\n",
    "\n",
    "    # Calculate the power required for each type of vehicle\n",
    "    df['Small EV TWh'] = df['Trillion Km Travelled / y']/conversions['km_Tkm']*df['kWh/km Travelled']*conversions['kWh_TWh']/(df['EV Efficiency Overall %']/100)\n",
    "    df['Small EV TWh'] = df['Small EV TWh'].replace(np.nan, 0)\n",
    "    df['Small H2 TWh'] = df['Small EV TWh'] / H2_EV_Power_Conversion\n",
    "    df['Large H2 TWh'] = df['Million Vehicles Or Billion (tonne-kilometers) / y']*df['TWh Consumed/Million Vehicles/y OR TWh/ Billion tonne - km']\n",
    "    df['Large EV TWh'] = df['Large H2 TWh'] * H2_EV_Power_Conversion\n",
    "\n",
    "    # Combine Small EV and Large EV into a single column\n",
    "    df['Total EV TWh'] = df['Small EV TWh'] + df['Large EV TWh']\n",
    "    df['Total H2 TWh'] = df['Small H2 TWh'] + df['Large H2 TWh']\n",
    "\n",
    "    # Calculate the total power and material required for the batteries\n",
    "    df['TW of Motor Power'] = df['Million Vehicles']*conversions['Mv_v'] * df['kWh Batteries / Vehicle']*conversions['kWh_TWh']\n",
    "    df['EV Mt Batteries'] = df['TW of Motor Power']/EV_Battery_Size*conversions['kWh_TWh']/conversions['kg_t']/conversions['t_Mt']\n",
    "    df['H2 Mt'] = df['Total H2 TWh']*H2_TWh\n",
    "\n",
    "    return df"
   ]
  },
  {
   "cell_type": "code",
   "execution_count": 142,
   "metadata": {},
   "outputs": [],
   "source": [
    "#Determine the total mass of batteries for EV, Mt of H2, and TWh of power required overall\n",
    "df_Vehicle_Power_and_Mass = Total_Power_Required(df_Vehicles)\n",
    "#Apply % factors to determine what % of each energy type takes in the power\n",
    "df_H2_Vehicles = df_Vehicle_Power_and_Mass[['Total H2 TWh','H2 Mt','TW of Motor Power']].multiply(df_Vehicle_Power_and_Mass['% H2']/100, axis=\"index\")\n",
    "df_EV_Vehicles = df_Vehicle_Power_and_Mass[['Total EV TWh','EV Mt Batteries']].multiply(df_Vehicle_Power_and_Mass['% EV']/100, axis=\"index\")\n",
    "#Sum the EV power and battery demand after vehicle make up is calculated\n",
    "Total_EV_Demand_TWh = df_EV_Vehicles['Total EV TWh'].sum()\n",
    "Total_EV_Battery_Mt = df_EV_Vehicles['EV Mt Batteries'].sum()\n",
    "#Sum the H2 power and mass demand after vehicle make up is calculated\n",
    "Total_H2_Demand_TWh = df_H2_Vehicles['Total H2 TWh'].sum()\n",
    "Total_H2_Demand_Mt = df_H2_Vehicles['H2 Mt'].sum()\n",
    "Total_H2_Motor_TW = df_H2_Vehicles['TW of Motor Power'].sum()\n",
    "#Add additional Power to the ongoing dataframe\n",
    "power_requirements['EV Vehicles'] = Total_EV_Demand_TWh\n",
    "power_requirements['Hydrogen Production'] = Total_H2_Demand_TWh\n",
    "Total_power = power_requirements.sum(axis=1)\n",
    "power_requirements['Total'] = Total_power"
   ]
  },
  {
   "cell_type": "code",
   "execution_count": 143,
   "metadata": {},
   "outputs": [],
   "source": [
    "#Vehicle Power Estimates\n",
    "#Multiply in the load demand\n",
    "df_Metals['EV kt'] = df_Metals['EV %']/100*Total_EV_Battery_Mt*conversions['Mt_kt']\n",
    "df_Metals['H2 kt'] = df_Metals['H2 Vehicles (g/kWh)']*Total_H2_Motor_TW/conversions['kWh_TWh']*conversions['g_kt']\n",
    "# print(df_Metals[['Metals','EV kt','H2 kt']])"
   ]
  },
  {
   "cell_type": "code",
   "execution_count": 146,
   "metadata": {},
   "outputs": [
    {
     "data": {
      "application/vnd.plotly.v1+json": {
       "config": {
        "plotlyServerURL": "https://plot.ly"
       },
       "data": [
        {
         "base": 0,
         "decreasing": {
          "marker": {
           "color": "red"
          }
         },
         "increasing": {
          "marker": {
           "color": "blue"
          }
         },
         "measure": [
          "relative",
          "relative",
          "relative",
          "relative",
          "relative",
          "absolute"
         ],
         "text": [
          "17,478",
          "1,320",
          "812",
          "6,313",
          "11,554",
          "37,477"
         ],
         "textposition": "outside",
         "totals": {
          "marker": {
           "color": "green"
          }
         },
         "type": "waterfall",
         "x": [
          "Non-Renewable Power",
          "Industry",
          "Waste",
          "EV Vehicles",
          "Hydrogen Production",
          "Total"
         ],
         "y": [
          17478.124,
          1319.5821600000002,
          812.05056,
          6313.367942894225,
          11553.599999999999,
          37476.72466289422
         ]
        }
       ],
       "layout": {
        "height": 600,
        "margin": {
         "b": 20,
         "l": 20,
         "r": 20,
         "t": 25
        },
        "template": {
         "data": {
          "bar": [
           {
            "error_x": {
             "color": "#2a3f5f"
            },
            "error_y": {
             "color": "#2a3f5f"
            },
            "marker": {
             "line": {
              "color": "#E5ECF6",
              "width": 0.5
             },
             "pattern": {
              "fillmode": "overlay",
              "size": 10,
              "solidity": 0.2
             }
            },
            "type": "bar"
           }
          ],
          "barpolar": [
           {
            "marker": {
             "line": {
              "color": "#E5ECF6",
              "width": 0.5
             },
             "pattern": {
              "fillmode": "overlay",
              "size": 10,
              "solidity": 0.2
             }
            },
            "type": "barpolar"
           }
          ],
          "carpet": [
           {
            "aaxis": {
             "endlinecolor": "#2a3f5f",
             "gridcolor": "white",
             "linecolor": "white",
             "minorgridcolor": "white",
             "startlinecolor": "#2a3f5f"
            },
            "baxis": {
             "endlinecolor": "#2a3f5f",
             "gridcolor": "white",
             "linecolor": "white",
             "minorgridcolor": "white",
             "startlinecolor": "#2a3f5f"
            },
            "type": "carpet"
           }
          ],
          "choropleth": [
           {
            "colorbar": {
             "outlinewidth": 0,
             "ticks": ""
            },
            "type": "choropleth"
           }
          ],
          "contour": [
           {
            "colorbar": {
             "outlinewidth": 0,
             "ticks": ""
            },
            "colorscale": [
             [
              0,
              "#0d0887"
             ],
             [
              0.1111111111111111,
              "#46039f"
             ],
             [
              0.2222222222222222,
              "#7201a8"
             ],
             [
              0.3333333333333333,
              "#9c179e"
             ],
             [
              0.4444444444444444,
              "#bd3786"
             ],
             [
              0.5555555555555556,
              "#d8576b"
             ],
             [
              0.6666666666666666,
              "#ed7953"
             ],
             [
              0.7777777777777778,
              "#fb9f3a"
             ],
             [
              0.8888888888888888,
              "#fdca26"
             ],
             [
              1,
              "#f0f921"
             ]
            ],
            "type": "contour"
           }
          ],
          "contourcarpet": [
           {
            "colorbar": {
             "outlinewidth": 0,
             "ticks": ""
            },
            "type": "contourcarpet"
           }
          ],
          "heatmap": [
           {
            "colorbar": {
             "outlinewidth": 0,
             "ticks": ""
            },
            "colorscale": [
             [
              0,
              "#0d0887"
             ],
             [
              0.1111111111111111,
              "#46039f"
             ],
             [
              0.2222222222222222,
              "#7201a8"
             ],
             [
              0.3333333333333333,
              "#9c179e"
             ],
             [
              0.4444444444444444,
              "#bd3786"
             ],
             [
              0.5555555555555556,
              "#d8576b"
             ],
             [
              0.6666666666666666,
              "#ed7953"
             ],
             [
              0.7777777777777778,
              "#fb9f3a"
             ],
             [
              0.8888888888888888,
              "#fdca26"
             ],
             [
              1,
              "#f0f921"
             ]
            ],
            "type": "heatmap"
           }
          ],
          "heatmapgl": [
           {
            "colorbar": {
             "outlinewidth": 0,
             "ticks": ""
            },
            "colorscale": [
             [
              0,
              "#0d0887"
             ],
             [
              0.1111111111111111,
              "#46039f"
             ],
             [
              0.2222222222222222,
              "#7201a8"
             ],
             [
              0.3333333333333333,
              "#9c179e"
             ],
             [
              0.4444444444444444,
              "#bd3786"
             ],
             [
              0.5555555555555556,
              "#d8576b"
             ],
             [
              0.6666666666666666,
              "#ed7953"
             ],
             [
              0.7777777777777778,
              "#fb9f3a"
             ],
             [
              0.8888888888888888,
              "#fdca26"
             ],
             [
              1,
              "#f0f921"
             ]
            ],
            "type": "heatmapgl"
           }
          ],
          "histogram": [
           {
            "marker": {
             "pattern": {
              "fillmode": "overlay",
              "size": 10,
              "solidity": 0.2
             }
            },
            "type": "histogram"
           }
          ],
          "histogram2d": [
           {
            "colorbar": {
             "outlinewidth": 0,
             "ticks": ""
            },
            "colorscale": [
             [
              0,
              "#0d0887"
             ],
             [
              0.1111111111111111,
              "#46039f"
             ],
             [
              0.2222222222222222,
              "#7201a8"
             ],
             [
              0.3333333333333333,
              "#9c179e"
             ],
             [
              0.4444444444444444,
              "#bd3786"
             ],
             [
              0.5555555555555556,
              "#d8576b"
             ],
             [
              0.6666666666666666,
              "#ed7953"
             ],
             [
              0.7777777777777778,
              "#fb9f3a"
             ],
             [
              0.8888888888888888,
              "#fdca26"
             ],
             [
              1,
              "#f0f921"
             ]
            ],
            "type": "histogram2d"
           }
          ],
          "histogram2dcontour": [
           {
            "colorbar": {
             "outlinewidth": 0,
             "ticks": ""
            },
            "colorscale": [
             [
              0,
              "#0d0887"
             ],
             [
              0.1111111111111111,
              "#46039f"
             ],
             [
              0.2222222222222222,
              "#7201a8"
             ],
             [
              0.3333333333333333,
              "#9c179e"
             ],
             [
              0.4444444444444444,
              "#bd3786"
             ],
             [
              0.5555555555555556,
              "#d8576b"
             ],
             [
              0.6666666666666666,
              "#ed7953"
             ],
             [
              0.7777777777777778,
              "#fb9f3a"
             ],
             [
              0.8888888888888888,
              "#fdca26"
             ],
             [
              1,
              "#f0f921"
             ]
            ],
            "type": "histogram2dcontour"
           }
          ],
          "mesh3d": [
           {
            "colorbar": {
             "outlinewidth": 0,
             "ticks": ""
            },
            "type": "mesh3d"
           }
          ],
          "parcoords": [
           {
            "line": {
             "colorbar": {
              "outlinewidth": 0,
              "ticks": ""
             }
            },
            "type": "parcoords"
           }
          ],
          "pie": [
           {
            "automargin": true,
            "type": "pie"
           }
          ],
          "scatter": [
           {
            "fillpattern": {
             "fillmode": "overlay",
             "size": 10,
             "solidity": 0.2
            },
            "type": "scatter"
           }
          ],
          "scatter3d": [
           {
            "line": {
             "colorbar": {
              "outlinewidth": 0,
              "ticks": ""
             }
            },
            "marker": {
             "colorbar": {
              "outlinewidth": 0,
              "ticks": ""
             }
            },
            "type": "scatter3d"
           }
          ],
          "scattercarpet": [
           {
            "marker": {
             "colorbar": {
              "outlinewidth": 0,
              "ticks": ""
             }
            },
            "type": "scattercarpet"
           }
          ],
          "scattergeo": [
           {
            "marker": {
             "colorbar": {
              "outlinewidth": 0,
              "ticks": ""
             }
            },
            "type": "scattergeo"
           }
          ],
          "scattergl": [
           {
            "marker": {
             "colorbar": {
              "outlinewidth": 0,
              "ticks": ""
             }
            },
            "type": "scattergl"
           }
          ],
          "scattermapbox": [
           {
            "marker": {
             "colorbar": {
              "outlinewidth": 0,
              "ticks": ""
             }
            },
            "type": "scattermapbox"
           }
          ],
          "scatterpolar": [
           {
            "marker": {
             "colorbar": {
              "outlinewidth": 0,
              "ticks": ""
             }
            },
            "type": "scatterpolar"
           }
          ],
          "scatterpolargl": [
           {
            "marker": {
             "colorbar": {
              "outlinewidth": 0,
              "ticks": ""
             }
            },
            "type": "scatterpolargl"
           }
          ],
          "scatterternary": [
           {
            "marker": {
             "colorbar": {
              "outlinewidth": 0,
              "ticks": ""
             }
            },
            "type": "scatterternary"
           }
          ],
          "surface": [
           {
            "colorbar": {
             "outlinewidth": 0,
             "ticks": ""
            },
            "colorscale": [
             [
              0,
              "#0d0887"
             ],
             [
              0.1111111111111111,
              "#46039f"
             ],
             [
              0.2222222222222222,
              "#7201a8"
             ],
             [
              0.3333333333333333,
              "#9c179e"
             ],
             [
              0.4444444444444444,
              "#bd3786"
             ],
             [
              0.5555555555555556,
              "#d8576b"
             ],
             [
              0.6666666666666666,
              "#ed7953"
             ],
             [
              0.7777777777777778,
              "#fb9f3a"
             ],
             [
              0.8888888888888888,
              "#fdca26"
             ],
             [
              1,
              "#f0f921"
             ]
            ],
            "type": "surface"
           }
          ],
          "table": [
           {
            "cells": {
             "fill": {
              "color": "#EBF0F8"
             },
             "line": {
              "color": "white"
             }
            },
            "header": {
             "fill": {
              "color": "#C8D4E3"
             },
             "line": {
              "color": "white"
             }
            },
            "type": "table"
           }
          ]
         },
         "layout": {
          "annotationdefaults": {
           "arrowcolor": "#2a3f5f",
           "arrowhead": 0,
           "arrowwidth": 1
          },
          "autotypenumbers": "strict",
          "coloraxis": {
           "colorbar": {
            "outlinewidth": 0,
            "ticks": ""
           }
          },
          "colorscale": {
           "diverging": [
            [
             0,
             "#8e0152"
            ],
            [
             0.1,
             "#c51b7d"
            ],
            [
             0.2,
             "#de77ae"
            ],
            [
             0.3,
             "#f1b6da"
            ],
            [
             0.4,
             "#fde0ef"
            ],
            [
             0.5,
             "#f7f7f7"
            ],
            [
             0.6,
             "#e6f5d0"
            ],
            [
             0.7,
             "#b8e186"
            ],
            [
             0.8,
             "#7fbc41"
            ],
            [
             0.9,
             "#4d9221"
            ],
            [
             1,
             "#276419"
            ]
           ],
           "sequential": [
            [
             0,
             "#0d0887"
            ],
            [
             0.1111111111111111,
             "#46039f"
            ],
            [
             0.2222222222222222,
             "#7201a8"
            ],
            [
             0.3333333333333333,
             "#9c179e"
            ],
            [
             0.4444444444444444,
             "#bd3786"
            ],
            [
             0.5555555555555556,
             "#d8576b"
            ],
            [
             0.6666666666666666,
             "#ed7953"
            ],
            [
             0.7777777777777778,
             "#fb9f3a"
            ],
            [
             0.8888888888888888,
             "#fdca26"
            ],
            [
             1,
             "#f0f921"
            ]
           ],
           "sequentialminus": [
            [
             0,
             "#0d0887"
            ],
            [
             0.1111111111111111,
             "#46039f"
            ],
            [
             0.2222222222222222,
             "#7201a8"
            ],
            [
             0.3333333333333333,
             "#9c179e"
            ],
            [
             0.4444444444444444,
             "#bd3786"
            ],
            [
             0.5555555555555556,
             "#d8576b"
            ],
            [
             0.6666666666666666,
             "#ed7953"
            ],
            [
             0.7777777777777778,
             "#fb9f3a"
            ],
            [
             0.8888888888888888,
             "#fdca26"
            ],
            [
             1,
             "#f0f921"
            ]
           ]
          },
          "colorway": [
           "#636efa",
           "#EF553B",
           "#00cc96",
           "#ab63fa",
           "#FFA15A",
           "#19d3f3",
           "#FF6692",
           "#B6E880",
           "#FF97FF",
           "#FECB52"
          ],
          "font": {
           "color": "#2a3f5f"
          },
          "geo": {
           "bgcolor": "white",
           "lakecolor": "white",
           "landcolor": "#E5ECF6",
           "showlakes": true,
           "showland": true,
           "subunitcolor": "white"
          },
          "hoverlabel": {
           "align": "left"
          },
          "hovermode": "closest",
          "mapbox": {
           "style": "light"
          },
          "paper_bgcolor": "white",
          "plot_bgcolor": "#E5ECF6",
          "polar": {
           "angularaxis": {
            "gridcolor": "white",
            "linecolor": "white",
            "ticks": ""
           },
           "bgcolor": "#E5ECF6",
           "radialaxis": {
            "gridcolor": "white",
            "linecolor": "white",
            "ticks": ""
           }
          },
          "scene": {
           "xaxis": {
            "backgroundcolor": "#E5ECF6",
            "gridcolor": "white",
            "gridwidth": 2,
            "linecolor": "white",
            "showbackground": true,
            "ticks": "",
            "zerolinecolor": "white"
           },
           "yaxis": {
            "backgroundcolor": "#E5ECF6",
            "gridcolor": "white",
            "gridwidth": 2,
            "linecolor": "white",
            "showbackground": true,
            "ticks": "",
            "zerolinecolor": "white"
           },
           "zaxis": {
            "backgroundcolor": "#E5ECF6",
            "gridcolor": "white",
            "gridwidth": 2,
            "linecolor": "white",
            "showbackground": true,
            "ticks": "",
            "zerolinecolor": "white"
           }
          },
          "shapedefaults": {
           "line": {
            "color": "#2a3f5f"
           }
          },
          "ternary": {
           "aaxis": {
            "gridcolor": "white",
            "linecolor": "white",
            "ticks": ""
           },
           "baxis": {
            "gridcolor": "white",
            "linecolor": "white",
            "ticks": ""
           },
           "bgcolor": "#E5ECF6",
           "caxis": {
            "gridcolor": "white",
            "linecolor": "white",
            "ticks": ""
           }
          },
          "title": {
           "x": 0.05
          },
          "xaxis": {
           "automargin": true,
           "gridcolor": "white",
           "linecolor": "white",
           "ticks": "",
           "title": {
            "standoff": 15
           },
           "zerolinecolor": "white",
           "zerolinewidth": 2
          },
          "yaxis": {
           "automargin": true,
           "gridcolor": "white",
           "linecolor": "white",
           "ticks": "",
           "title": {
            "standoff": 15
           },
           "zerolinecolor": "white",
           "zerolinewidth": 2
          }
         }
        },
        "title": {
         "text": "New Renewable Power Make Up Required"
        },
        "width": 800,
        "yaxis": {
         "tickformat": ",",
         "title": {
          "text": "Power Requirement (TWh/y)"
         }
        }
       }
      }
     },
     "metadata": {},
     "output_type": "display_data"
    }
   ],
   "source": [
    "#Now we plot the total power required in a waterfall chart\n",
    "\n",
    "import plotly.graph_objects as go\n",
    "\n",
    "# Preparing data for waterfall chart\n",
    "waterfall_data = go.Waterfall(\n",
    "    x = power_requirements.columns.tolist(),\n",
    "    y = power_requirements.values.flatten().tolist(),\n",
    "    textposition = \"outside\",\n",
    "    text = [f'{v:,.0f}' for v in power_requirements.values.flatten()],\n",
    "    measure = [\"relative\", \"relative\", \"relative\", \"relative\", \"relative\", 'absolute'],\n",
    "    base = 0,\n",
    "    increasing = {\"marker\":{\"color\":\"blue\"}},  # Change as required\n",
    "    decreasing = {\"marker\":{\"color\":\"red\"}},  # Change as required\n",
    "    totals = {\"marker\":{\"color\":\"green\"}}  # Change as required\n",
    ")\n",
    "\n",
    "layout = go.Layout(\n",
    "    title = \"New Renewable Power Make Up Required\",\n",
    "    yaxis = {\"title\" : \"Power Requirement (TWh/y)\", 'tickformat': ','},\n",
    "    margin = dict(l=20, r=20, t=25, b=20), # Modify these values as needed\n",
    "    height=600,  # adjust as needed\n",
    "    width=800,  # adjust as needed\n",
    ")\n",
    "\n",
    "fig = go.Figure(data=[waterfall_data], layout=layout)\n",
    "fig.show()"
   ]
  },
  {
   "cell_type": "code",
   "execution_count": 147,
   "metadata": {},
   "outputs": [],
   "source": [
    "#With total power in mind we can now figure out how much of the power will be taken by each energy source\n",
    "#Will need a chart for this information\n",
    "#Input the distribution of each energy type\n",
    "df_Power_Plants['% New Power'] = [13.9, 26.8, 38.3, 13.4, 7.5,0.0,0.0]\n",
    "\n",
    "df_Power_Plants['Power TWh/y'] = df_Power_Plants['% New Power']/100*Total_power.sum()\n",
    "# print(df_Power_Plants[['Type','Power TWh/y']])\n",
    "\n",
    "#Convert calculations in MW of installed plant power and get the total metal requirement\n",
    "df_Power_Plants['TWh/plant/year'] = df_Power_Plants['MWh/day/plant']*365*conversions['Mwh_TWh'] #To get total output of a single plant per year\n",
    "df_Power_Plants['MW/plant effective'] = df_Power_Plants['MWh/day/plant']/24 #By dividing MWh/day by 24h we get MW of installed power which is necessary for metal totals\n",
    "df_Power_Plants['MW/plant installed'] = df_Power_Plants['MW/plant effective'] / (df_Power_Plants['Capacity Factor']/100) # By applying the capacity factors of each type we get the actualy MW installed which drives metal requirements\n",
    "df_Power_Plants['kt metal / plant'] = df_Power_Plants['kg metal/ MW']*df_Power_Plants['MW/plant installed']*conversions['kg_t']*conversions['t_kt'] # Get kt of metal per plant based on installed power\n",
    "df_Power_Plants['Plants Required'] = df_Power_Plants['Power TWh/y']/df_Power_Plants['TWh/plant/year']\n",
    "df_Power_Plants['kt metal total'] = df_Power_Plants['Plants Required'] * df_Power_Plants['kt metal / plant']"
   ]
  },
  {
   "cell_type": "code",
   "execution_count": null,
   "metadata": {},
   "outputs": [],
   "source": [
    "power_plant_types = ['Offshore wind', 'Onshore wind', 'Solar PV', 'Hydro', 'Nuclear']\n",
    "percentage_columns = ['Off Shore Wind %', 'On Shore Wind %', 'Solar PV %', 'Hydro %', 'Nuclear %']\n",
    "new_column_names = ['Offshore Wind kt', 'Onshore Wind kt', 'Solar PV kt', 'Hydro kt', 'Nuclear kt']\n",
    "\n",
    "for power_plant_type, percentage_column, new_column_name in zip(power_plant_types, percentage_columns, new_column_names):\n",
    "    metal_total = df_Power_Plants.loc[df_Power_Plants['Type'] == power_plant_type, 'kt metal total'].values[0]\n",
    "    df_Metals[new_column_name] = df_Metals[percentage_column] / 100 * metal_total\n",
    "\n",
    "#Need to add uranium metal so here are our constants\n",
    "U_metal_t_TWh = 22.3 #Tonnes of uranium required for 1 TWh of energy\n",
    "U_mining_rec = 80 #% recovery of mining\n",
    "U_mined_t_TWh = U_metal_t_TWh/(U_mining_rec/100) # Effective uranium metal required\n",
    "Nuclear_Power_TWh = df_Power_Plants['Power TWh/y'].loc[df_Power_Plants['Type'] == 'Nuclear'].values[0] + Power_df['Absolute'].loc[Power_df['Source'] == 'Nuclear'].values[0] #Includes existing nuclear and new nuclear power\n",
    "U_kt = Nuclear_Power_TWh * U_mined_t_TWh * conversions['t_kt'] #Get total uranium metal required\n",
    "df_Metals['Nuclear kt'].loc[df_Metals['Metals'] == 'Uranium'] = U_kt\n",
    "\n",
    "print(df_Metals[['Metals','Nuclear kt']])"
   ]
  },
  {
   "cell_type": "code",
   "execution_count": 157,
   "metadata": {},
   "outputs": [
    {
     "name": "stdout",
     "output_type": "stream",
     "text": [
      "  Waste Type  m3/TWh produced  m3 produced / year\n",
      "0       VLLW           148.00        8.288625e+05\n",
      "1        LLW           201.00        1.125685e+06\n",
      "2        ILW            28.00        1.568118e+05\n",
      "3        HLW             0.29        1.624122e+03\n"
     ]
    }
   ],
   "source": [
    "#Estimate Nuclear Waste production\n",
    "Nuclear_waste = {'Waste Type': ['VLLW','LLW','ILW','HLW'],'m3/TWh produced': [29+119,15+186,27+1,0.29]} # m3 / TWh of energy\n",
    "df_Nuclear_waste = pd.DataFrame(Nuclear_waste)\n",
    "df_Nuclear_waste['m3 produced / year'] = df_Nuclear_waste['m3/TWh produced'] * Nuclear_Power_TWh\n",
    "print(df_Nuclear_waste)"
   ]
  },
  {
   "cell_type": "code",
   "execution_count": 168,
   "metadata": {},
   "outputs": [
    {
     "data": {
      "text/plain": [
       "Index(['Metals', 'Current Production (kt/y)', 'Reserve (kt)', 'Resource (kt)',\n",
       "       'EV %', 'H2 Vehicles (g/kWh)', 'NMC Battery %', 'Lead Battery %',\n",
       "       'Salt Battery %', 'Off Shore Wind %', 'On Shore Wind %', 'Solar PV %',\n",
       "       'Hydro %', 'Nuclear %', 'EV kt', 'H2 kt', 'Offshore Wind kt',\n",
       "       'Onshore Wind kt', 'Solar PV kt', 'Hydro kt', 'Nuclear kt'],\n",
       "      dtype='object')"
      ]
     },
     "execution_count": 168,
     "metadata": {},
     "output_type": "execute_result"
    }
   ],
   "source": [
    "df_Metals.columns"
   ]
  },
  {
   "cell_type": "code",
   "execution_count": 184,
   "metadata": {},
   "outputs": [],
   "source": [
    "# Now we can estimate storage power requirements based on the total Power in Solar and wind systems\n",
    "# User inputs the proportion of each battery type\n",
    "Battery_Proportion = {'Battery Type': ['NMC','Lead','Salt'],'% of Total': [75,5,20],'Energy Density kWh/kg': [0.270,0.050,0.160],'Storage Eff %': [84.6,84.6,84.6]} #Values should add up to 100%\n",
    "df_Battery_Proportion = pd.DataFrame(Battery_Proportion)\n",
    "#Other Constants\n",
    "Battery_Facility_Size = 2330 #MWh/facility\n",
    "Days_of_Storage = 2 # 2 days should be the minimum, while some estimates hold these values closer to 84 days\n",
    "\n",
    "Renewable_TWh = df_Power_Plants['Power TWh/y'].loc[df_Power_Plants['Type'].isin(['Offshore wind','Onshore wind','Solar PV'])].sum()\n",
    "#Calculate the to TWh of storage required for each system\n",
    "df_Battery_Proportion['TWh of Storage'] = df_Battery_Proportion['% of Total']/100*Renewable_TWh/(df_Battery_Proportion['Storage Eff %']/100)*(Days_of_Storage/365)\n",
    "df_Battery_Proportion['Mt of Batteries'] = df_Battery_Proportion['TWh of Storage']/(df_Battery_Proportion['Energy Density kWh/kg']*conversions['kWh_TWh']/conversions['kg_t']/conversions['t_Mt'])\n",
    "df_Battery_Proportion['kt of Batteries'] = df_Battery_Proportion['Mt of Batteries']*1000\n",
    "df_Battery_Proportion['Number of Facilities'] = df_Battery_Proportion['TWh of Storage']/(Battery_Facility_Size*conversions['Mwh_TWh'])\n",
    "\n",
    "# print(df_Battery_Proportion)\n",
    "\n",
    "#Map battery production onto Metals dataframe:\n",
    "battery_types = ['NMC','Lead','Salt']\n",
    "percentage_columns = ['NMC Battery %', 'Lead Battery %','Salt Battery %']\n",
    "new_column_names = ['NMC kt', 'Lead kt', 'Salt kt']\n",
    "\n",
    "for battery_type, percentage_column, new_column_name in zip(battery_types, percentage_columns, new_column_names):\n",
    "    metal_total = df_Battery_Proportion.loc[df_Battery_Proportion['Battery Type'] == battery_type, 'kt of Batteries'].values[0]\n",
    "    df_Metals[new_column_name] = df_Metals[percentage_column] / 100 * metal_total\n",
    "\n",
    "# print(df_Metals[['Metals'] + new_column_names])"
   ]
  },
  {
   "cell_type": "code",
   "execution_count": 186,
   "metadata": {},
   "outputs": [],
   "source": [
    "#Make just a metals with kt dataframe that we can now use to plot our charts\n",
    "df_Metals_kt = pd.concat([df_Metals['Metals'], df_Metals.filter(regex='kt')], axis=1)\n",
    "items = ['EV', 'H2', 'Offshore Wind', 'Onshore Wind', 'Solar PV','Hydro', 'Nuclear', 'NMC', 'Lead', 'Salt']\n",
    "\n",
    "for item in items:\n",
    "    df_Metals_kt[item + ' Production kt/y'] = df_Metals_kt[item + ' kt'] / Years_To_Mine\n",
    "\n",
    "#Here we need a metals charts where the x-axis will be the name of the metal (a single one) and y will the total kt, \n",
    "#I want a separate chart of each metal. I want each metal to have 2 bars associated with it. First bar is the combonation of the reserves\n",
    "#and resources, the second will the a stacked bar chart where we add up each metal (EV, H2, Each Power System, and batteries). Then we need to totalize all the new metals\n",
    "# (EV, H2, Each Power System, and batteries) and compare that to the current production in kt/y, and this will be shown as lines so one line is current production\n",
    "# While the second line uses value \"Years_To_Mine\" to divide the total metal demand by that number of years (base case is 17 years)\n",
    "# This is the last chart needed\n"
   ]
  }
 ],
 "metadata": {
  "kernelspec": {
   "display_name": "base",
   "language": "python",
   "name": "python3"
  },
  "language_info": {
   "codemirror_mode": {
    "name": "ipython",
    "version": 3
   },
   "file_extension": ".py",
   "mimetype": "text/x-python",
   "name": "python",
   "nbconvert_exporter": "python",
   "pygments_lexer": "ipython3",
   "version": "3.10.9"
  },
  "orig_nbformat": 4
 },
 "nbformat": 4,
 "nbformat_minor": 2
}
