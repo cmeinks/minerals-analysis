{
 "cells": [
  {
   "cell_type": "code",
   "execution_count": 5,
   "metadata": {},
   "outputs": [],
   "source": [
    "#Import Libraries\n",
    "import pandas as pd\n",
    "import numpy as np\n",
    "import matplotlib.pyplot as plt\n",
    "import matplotlib.cm as cm\n",
    "import ipywidgets as widgets\n",
    "from IPython.display import display\n",
    "from flask import Flask, request, jsonify"
   ]
  },
  {
   "cell_type": "code",
   "execution_count": 2,
   "metadata": {},
   "outputs": [],
   "source": [
    "#Conversions\n",
    "conversions = {\n",
    "    \"kWh_MWh\": 1/10**3,\n",
    "    \"kWh_GWh\": 1/10**6,\n",
    "    \"kWh_TWh\": 1/10**9,\n",
    "    \"Mwh_TWh\": 1/10**6,\n",
    "    \"g_kt\": 1/10**9,\n",
    "    \"kg_t\": 1/10**3,\n",
    "    \"t_kt\": 1/10**3,\n",
    "    \"t_Mt\": 1/10**6,\n",
    "    \"Mt_kt\": 10**3,\n",
    "    \"km_Tkm\": 1/10**12,\n",
    "    \"Mv_v\": 10**6\n",
    "}"
   ]
  },
  {
   "cell_type": "code",
   "execution_count": 3,
   "metadata": {},
   "outputs": [],
   "source": [
    "#Total Metals\n",
    "df_Metals = pd.read_excel('Metals.xlsx',sheet_name='Metals')\n",
    "df_Power_Plants = pd.read_excel('Metals.xlsx',sheet_name='Power Systems')\n",
    "df_Vehicles = pd.read_excel('Metals.xlsx',sheet_name='Vehicles')"
   ]
  },
  {
   "cell_type": "code",
   "execution_count": 6,
   "metadata": {},
   "outputs": [],
   "source": [
    "app = Flask(__name__)\n",
    "\n",
    "@app.route('/update_world_inputs', methods=['POST'])\n",
    "def update_world_inputs():\n",
    "    # Parse variables from request\n",
    "    data = request.json\n",
    "    World_GHG_Emissions = data.get('World_GHG_Emissions', 49758)  # default value is the original constant\n",
    "    World_Power_Generation = data.get('World_Power_Generation', 28466)  # default value is the original constant\n",
    "    Power_to_Remove_GHG = data.get('Power_to_Remove_GHG', 0.51)  # default value is the original constant\n",
    "    Current_Year = data.get('Current_Year', 2023)  # default value is the original constant\n",
    "    Years_To_Develop = data.get('Years_To_Develop', 10)  # default value is the original constant\n",
    "    Year_To_Net_Zero = data.get('Year_To_Net_Zero', 2050)  # default value is the original constant\n",
    "\n",
    "    # Recalculate dependent variables\n",
    "    Years_To_Mine = Year_To_Net_Zero-Current_Year-Years_To_Develop\n",
    "    GHG_data = data.get('GHG_data', {'Sector': ['Oil','Gas','Coal','Biomass','Industry','Waste','Agriculture, Forestry and Land Use', 'Other'],\n",
    "                                     'Percentage': [23.2, 16.3, 33.1, 0.6, 5.2, 3.2, 18.4, 100 - 23.2 - 16.3 - 33.1 - 0.6 - 5.2 - 3.2 - 18.4]})\n",
    "    GHG_df = pd.DataFrame(GHG_data)\n",
    "    GHG_df['Absolute'] = GHG_df['Percentage']/100 * World_GHG_Emissions\n",
    "\n",
    "    Power_data = data.get('Power_data', {'Source': ['Oil','Gas','Coal','Nuclear','Hydro','Renewables','Other'],\n",
    "                                         'Percentage': [2.5, 22.9, 36.0, 9.8, 15.0, 12.8, 100 - 2.5 - 22.9 - 36.0 - 9.8 - 15.0 - 12.8]})\n",
    "    Power_df = pd.DataFrame(Power_data)\n",
    "    Power_df['Absolute'] = Power_df['Percentage']/100 * World_Power_Generation\n",
    "    GHG_Power_TWh = Power_df['Absolute'].loc[Power_df['Source'].isin(['Oil','Gas','Coal'])].sum()\n",
    "\n",
    "    # Add in energy costs for industry and waste\n",
    "    Industry_Power = GHG_df.loc[GHG_df['Sector'] == 'Industry', 'Absolute'].values[0]*Power_to_Remove_GHG\n",
    "    Waste_Power = GHG_df.loc[GHG_df['Sector'] == 'Waste', 'Absolute'].values[0]*Power_to_Remove_GHG\n",
    "\n",
    "    power_requirements = pd.DataFrame({'Non-Renewable Power': [GHG_Power_TWh], 'Industry': [Industry_Power], 'Waste': [Waste_Power]})\n",
    "\n",
    "    # Convert dataframes to a format that can be sent as a JSON response\n",
    "    GHG_df_result = GHG_df.to_dict(orient='records')\n",
    "    Power_df_result = Power_df.to_dict(orient='records')\n",
    "    power_requirements_result = power_requirements.to_dict(orient='records')\n",
    "\n",
    "    # Send response\n",
    "    return jsonify({\n",
    "        'GHG_df': GHG_df_result,\n",
    "        'Power_df': Power_df_result,\n",
    "        'power_requirements': power_requirements_result\n",
    "    })\n"
   ]
  }
 ],
 "metadata": {
  "kernelspec": {
   "display_name": "base",
   "language": "python",
   "name": "python3"
  },
  "language_info": {
   "codemirror_mode": {
    "name": "ipython",
    "version": 3
   },
   "file_extension": ".py",
   "mimetype": "text/x-python",
   "name": "python",
   "nbconvert_exporter": "python",
   "pygments_lexer": "ipython3",
   "version": "3.10.9"
  },
  "orig_nbformat": 4
 },
 "nbformat": 4,
 "nbformat_minor": 2
}
